{
 "cells": [
  {
   "cell_type": "code",
   "execution_count": null,
   "metadata": {},
   "outputs": [],
   "source": [
    "%load_ext autoreload\n",
    "%autoreload 2\n",
    "from main.main import test_stats\n",
    "\n",
    "test_stats()"
   ]
  }
 ],
 "metadata": {
  "interpreter": {
   "hash": "84c8f2840a54caf438becaa798f9ed5d5236e0421be6a148c32d6da57e2dff01"
  },
  "kernelspec": {
   "display_name": "Python 3.10.0 64-bit ('py3.10': conda)",
   "language": "python",
   "name": "python3"
  },
  "language_info": {
   "codemirror_mode": {
    "name": "ipython",
    "version": 3
   },
   "file_extension": ".py",
   "mimetype": "text/x-python",
   "name": "python",
   "nbconvert_exporter": "python",
   "pygments_lexer": "ipython3",
   "version": "3.10.0"
  },
  "orig_nbformat": 4
 },
 "nbformat": 4,
 "nbformat_minor": 2
}
